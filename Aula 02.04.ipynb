{
 "cells": [
  {
   "cell_type": "code",
   "execution_count": 21,
   "metadata": {},
   "outputs": [
    {
     "name": "stdout",
     "output_type": "stream",
     "text": [
      "Os valores é:  26 , 23\n"
     ]
    }
   ],
   "source": [
    "#Exercício 1\n",
    "valor1 = int(input('Digite um numero inteiro: '))\n",
    "valor2 = int(input('Digite um numero inteiro: '))\n",
    "print(\"Os valores é: \",valor1,\",\",valor2)"
   ]
  },
  {
   "cell_type": "code",
   "execution_count": 6,
   "metadata": {},
   "outputs": [
    {
     "name": "stdout",
     "output_type": "stream",
     "text": [
      "A soma dos números é:  63\n"
     ]
    }
   ],
   "source": [
    "#Exercício 2\n",
    "num1 = int(input('Digite um numero inteiro: '))\n",
    "num2 = int(input('Digite um numero inteiro: '))\n",
    "resultado = num1 + num2\n",
    "print(\"A soma dos números é: \", resultado)"
   ]
  },
  {
   "cell_type": "code",
   "execution_count": 17,
   "metadata": {},
   "outputs": [
    {
     "name": "stdout",
     "output_type": "stream",
     "text": [
      "A média das notas é:  68.0\n"
     ]
    }
   ],
   "source": [
    "#Exercício 3\n",
    "nota1 = float(input('Digite um numero: '))\n",
    "nota2 = float(input('Digite um numero: '))\n",
    "nota3 = float(input('Digite um numero: '))\n",
    "media = (nota1 + nota2 + nota3)/3\n",
    "print(\"A média das notas é: \", media)"
   ]
  },
  {
   "cell_type": "code",
   "execution_count": 27,
   "metadata": {},
   "outputs": [
    {
     "name": "stdout",
     "output_type": "stream",
     "text": [
      "Seu salário é  20.0 reais\n"
     ]
    }
   ],
   "source": [
    "#Exercício 4\n",
    "#Perguntar quando ganha por hora\n",
    "salarioHora = float(input('Quanto você ganha por hora? '))\n",
    "#Perguntar o número de horas por mês\n",
    "qtdHora = int(input('Qual o número de horas trabalhados no mês? '))\n",
    "#Valor do salário\n",
    "salario = salarioHora * qtdHora\n",
    "print(\"Seu salário é \", salario, \"reais\")"
   ]
  },
  {
   "cell_type": "code",
   "execution_count": 13,
   "metadata": {},
   "outputs": [
    {
     "name": "stdout",
     "output_type": "stream",
     "text": [
      "João trouxe 150.0 kg\n",
      "Logo, deve pagar 400.0 reais.\n"
     ]
    }
   ],
   "source": [
    "#Exercício 5\n",
    "#50kg é o peso estabelecido\n",
    "pesoEstabelecido = 50\n",
    "#Quilo que joão trouxe\n",
    "quilo = float(input('Quilo que João trouxe: '))\n",
    "print(\"João trouxe\", quilo, 'kg')\n",
    "#Cálculo da multa\n",
    "multa = 4 * (quilo - 50)\n",
    "#Resultado\n",
    "if (quilo > 50):\n",
    "    print('Logo, deve pagar', multa, \"reais.\")\n",
    "else:\n",
    "    print('Logo, não precisa pagar multa.')"
   ]
  },
  {
   "cell_type": "code",
   "execution_count": null,
   "metadata": {},
   "outputs": [],
   "source": []
  }
 ],
 "metadata": {
  "kernelspec": {
   "display_name": "Python 3",
   "language": "python",
   "name": "python3"
  },
  "language_info": {
   "codemirror_mode": {
    "name": "ipython",
    "version": 3
   },
   "file_extension": ".py",
   "mimetype": "text/x-python",
   "name": "python",
   "nbconvert_exporter": "python",
   "pygments_lexer": "ipython3",
   "version": "3.10.11"
  }
 },
 "nbformat": 4,
 "nbformat_minor": 2
}
